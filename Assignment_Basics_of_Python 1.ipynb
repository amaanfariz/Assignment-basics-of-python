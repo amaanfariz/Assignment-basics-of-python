{
  "nbformat": 4,
  "nbformat_minor": 0,
  "metadata": {
    "colab": {
      "provenance": []
    },
    "kernelspec": {
      "name": "python3",
      "display_name": "Python 3"
    },
    "language_info": {
      "name": "python"
    }
  },
  "cells": [
    {
      "cell_type": "markdown",
      "source": [
        "# Assignment - Basics of Python Theoritical"
      ],
      "metadata": {
        "id": "Xr92SfQXIzRU"
      }
    },
    {
      "cell_type": "markdown",
      "source": [
        "Q1  What is Python, and why is it popular\n",
        "  \n",
        "  Ans > Python is a high level programming language used for various applications such as web development, software development, mathmatics, robotics, automation, image processing,creating databases etc.\n",
        "  It is popular because it can be\n",
        "  - used in various platforms like windows/linux\n",
        "  - has a lot of libraries\n",
        "  - easy to learn\n",
        "  - has an active community\n",
        "  - has a simple syntax simillar to english language\n",
        "  - is easier to write codes than in other languages"
      ],
      "metadata": {
        "id": "zl9JF3YxHRT2"
      }
    },
    {
      "cell_type": "markdown",
      "source": [
        "Q2  What is an interpreter in Python\n",
        "  \n",
        "  Ans > An interpreter in python is a program that reads and executes Python code line by line, translating it into machine-readable bytecode."
      ],
      "metadata": {
        "id": "5JmhpDLOHdmJ"
      }
    },
    {
      "cell_type": "markdown",
      "source": [
        "Q3 What are pre-defined keywords in Python\n",
        "  \n",
        "  Ans > Keywords are predefined words that hold speacial meaning in python language and are designed for specific purpose. eg, print, type\n",
        "  \n",
        "  They never change."
      ],
      "metadata": {
        "id": "fTzfwYXsHjp9"
      }
    },
    {
      "cell_type": "markdown",
      "source": [
        "Q4 Can keywords be used as variable names\n",
        "  \n",
        "  Ans > No, python keywords cant be used as variable names as they are designed to perform specific function"
      ],
      "metadata": {
        "id": "yCE87vMkHwYF"
      }
    },
    {
      "cell_type": "markdown",
      "source": [
        "Q5 What is mutability in Python\n",
        "\n",
        " Ans > In python, mutability means to change the state or value of an object, after it has been created"
      ],
      "metadata": {
        "id": "QOQhMT0PHz8S"
      }
    },
    {
      "cell_type": "markdown",
      "source": [
        "Q6 Why are lists mutable, but tuples are immutable\n",
        "  \n",
        "  Ans > List are said to be mutable because their content can be changed after creation, while , for tuples it can not be changed after creation, hence it is immutable."
      ],
      "metadata": {
        "id": "nGwSQyk2H82A"
      }
    },
    {
      "cell_type": "markdown",
      "source": [
        "Q7 What is the difference between “==” and “is” operators in Python\n",
        "\n",
        "  Ans > \"==\" helps in comparing the eqality  of the given variables/objects\n",
        "  example - 2==2, True or false\n",
        "  \n",
        "  while\n",
        "  \"is\" operator helps in identifying if the 2 variables points to same object in memory. if yes then True, if not then false"
      ],
      "metadata": {
        "id": "cRM0qCRsIB1O"
      }
    },
    {
      "cell_type": "markdown",
      "source": [
        "Q8 What are logical operators in Python\n",
        "\n",
        "  Ans > these are a type of operators that are used  to combine conditional statements, allowing you to perform operations based on multiple conditions.\n",
        "  There are 3 types of logical operators. These return value in boolean form of true and false\n",
        "\n",
        "  AND - returns true if combination of both statement is true\n",
        "  \n",
        "  OR - returns true if one of both statement is true\n",
        "  \n",
        "  NOT - it is the reverse of True/ False, resulting True if the answer is false\n"
      ],
      "metadata": {
        "id": "2Jr4Lv46IHJR"
      }
    },
    {
      "cell_type": "markdown",
      "source": [
        "Q9 What is type casting in Python\n",
        "\n",
        "  Ans > Typecasting is referred as changing the data type of a value or an object\n",
        "  \n",
        "  example - coverting the data type of an integer to a string\n",
        "  \n",
        "  a=2\n",
        "  str(\"a\")\n",
        "  = '2'"
      ],
      "metadata": {
        "id": "lKmV6TkKIOgC"
      }
    },
    {
      "cell_type": "markdown",
      "source": [
        "Q10 What is the difference between implicit and explicit type casting\n",
        "\n",
        "  Ans > Explicit typecasting happens when the user himself changes the data type of a value/object in python\n",
        "\n",
        "  while\n",
        "  implicit typecasting happens when python by itself assigns the datatype to a value based on its own undrstanding.\n",
        "\n",
        "  exapmle - a=2, puthon will take this 2 as an integer"
      ],
      "metadata": {
        "id": "UPTBmHc8ITqc"
      }
    },
    {
      "cell_type": "markdown",
      "source": [
        "Q11 What is the purpose of conditional statements in Python\n",
        "\n",
        "  Ans > The puspose of conditional statements is to check is the condition of the given statement is TRUE or FALSE and then run a block of code based on it.\n",
        "  \n",
        "  It helps in control the flow of a programme based on the conditions that we specify ."
      ],
      "metadata": {
        "id": "954fAva7Ifzx"
      }
    },
    {
      "cell_type": "markdown",
      "source": [
        "Q12 How does the elif statement work\n",
        "\n",
        "  Ans > The elif statement is used when there are multiple conditions present. if the previous conditions were not true, then new condition is tried unless the condition is met. If not else statement is excecuted.\n",
        "  \n",
        "  If there are 3 conditions and we use elif statement then-\n",
        "\n",
        "  if (condition 1)\n",
        "     then print()\n",
        "\n",
        "  elif (condition 2)\n",
        "     then print()\n",
        "\n",
        "  elif (condition 3)\n",
        "     then print()\n",
        "\n",
        "  else\n",
        "      (no condition is satisfied)\n",
        "\n",
        "  The first condition is checked, and if true then first print happens and code breaks\n",
        "\n",
        "  if not then the code goes for checking the second condition\n",
        "\n",
        "  if not true then third is checked\n",
        "\n",
        "  then finally else statement is run if none of the condition is true"
      ],
      "metadata": {
        "id": "c4MEf3f3Ijni"
      }
    },
    {
      "cell_type": "markdown",
      "source": [
        "Q 13 What is the difference between for and while loops\n",
        "\n",
        "  Ans > For loop is used to run the loop for a given specified no. of iterations\n",
        "\n",
        "  but while loop is used to run the loop untill the a given condition becomes true/false, meaning no specified number of iteration is known breforehand"
      ],
      "metadata": {
        "id": "b6x6OhutIoMj"
      }
    },
    {
      "cell_type": "markdown",
      "source": [
        "Q 14  Describe a scenario where a while loop is more suitable than a for loop.\n",
        "\n",
        "  Ans > Senario- When we want to run a code for the years in retirement.\n",
        "\n",
        "  When the retirement age is 60, and individual gives his/her age in input.\n",
        "\n",
        "  Here the number of iterations cant be specified beacuse as for a person of 30 yrs will have 30 iterations while for 55 will only have 5 iterations for meeting the given condition of retirement at 60.\n",
        "\n",
        "  Hence 'while loop' will be better here than 'for loop'"
      ],
      "metadata": {
        "id": "GGPDswRBIsOt"
      }
    },
    {
      "cell_type": "markdown",
      "source": [
        "# Practical"
      ],
      "metadata": {
        "id": "IiUnOnF8mKQT"
      }
    },
    {
      "cell_type": "code",
      "source": [
        "# Q1 Write a Python program to print \"Hello, World!\n",
        "\n",
        "print(\"Hello, World!\")"
      ],
      "metadata": {
        "colab": {
          "base_uri": "https://localhost:8080/"
        },
        "id": "Y7Rii2AqIGiG",
        "outputId": "8d825546-b061-4930-ddf6-f35d07d7ed41"
      },
      "execution_count": null,
      "outputs": [
        {
          "output_type": "stream",
          "name": "stdout",
          "text": [
            "Hello, World!\n"
          ]
        }
      ]
    },
    {
      "cell_type": "code",
      "source": [
        "# Q2 Write a Python program that displays your name and age\n",
        "name = input(\"Please enter your name : \")\n",
        "age = int(input(\" Please enter your Age : \"))\n",
        "\n",
        "print(f\"Hi, my name is {name} and I am {age} years old\")"
      ],
      "metadata": {
        "colab": {
          "base_uri": "https://localhost:8080/"
        },
        "id": "VAzEQCPIHtPw",
        "outputId": "d4b031c4-23a2-44a4-b5b2-699834ecbe8c"
      },
      "execution_count": null,
      "outputs": [
        {
          "output_type": "stream",
          "name": "stdout",
          "text": [
            "Please enter your name : Fariz\n",
            " Please enter your Age : 23\n",
            "Hi, my name is Fariz and I am 23 years old\n"
          ]
        }
      ]
    },
    {
      "cell_type": "code",
      "execution_count": null,
      "metadata": {
        "colab": {
          "base_uri": "https://localhost:8080/"
        },
        "id": "iSFPi-7DF6jo",
        "outputId": "af899d4b-212e-4fa3-ab4a-d1e470d13ef1"
      },
      "outputs": [
        {
          "output_type": "stream",
          "name": "stdout",
          "text": [
            "['False', 'None', 'True', 'and', 'as', 'assert', 'async', 'await', 'break', 'class', 'continue', 'def', 'del', 'elif', 'else', 'except', 'finally', 'for', 'from', 'global', 'if', 'import', 'in', 'is', 'lambda', 'nonlocal', 'not', 'or', 'pass', 'raise', 'return', 'try', 'while', 'with', 'yield']"
          ]
        }
      ],
      "source": [
        "# Q3  Write code to print all the pre-defined keywords in Python using the keyword library\n",
        "\n",
        "import keyword\n",
        "print(keyword.kwlist, end=\"\")"
      ]
    },
    {
      "cell_type": "code",
      "source": [
        "# Q4 Write a program that checks if a given word is a Python keyword\n",
        "\n",
        "import keyword\n",
        "\n",
        "k=\"for\"\n",
        "\n",
        "print(keyword.iskeyword(k))\n",
        "# True if keyword, false if not"
      ],
      "metadata": {
        "colab": {
          "base_uri": "https://localhost:8080/"
        },
        "id": "TLrqcXXroj4b",
        "outputId": "915c883c-af7d-47ba-f0d8-064592fb3a57"
      },
      "execution_count": null,
      "outputs": [
        {
          "output_type": "stream",
          "name": "stdout",
          "text": [
            "True\n"
          ]
        }
      ]
    },
    {
      "cell_type": "code",
      "source": [
        "# Q5 Create a list and tuple in Python, and demonstrate how attempting to change an element works differently for each\n",
        "\n",
        "lis1 = [2.3, 56,\"hello\"]\n",
        "tup1 = (2.3,76,\"deer\")\n",
        "\n",
        "lis1[2]=\"hi\"\n",
        "lis1"
      ],
      "metadata": {
        "colab": {
          "base_uri": "https://localhost:8080/"
        },
        "id": "o3vCkRM8pkng",
        "outputId": "0748870d-0d95-4ca9-9597-f9308fd68514"
      },
      "execution_count": null,
      "outputs": [
        {
          "output_type": "execute_result",
          "data": {
            "text/plain": [
              "[2.3, 56, 'hi']"
            ]
          },
          "metadata": {},
          "execution_count": 18
        }
      ]
    },
    {
      "cell_type": "code",
      "source": [
        "# Q5 continued\n",
        "tup1[2]=\"hi\"\n",
        "tup1"
      ],
      "metadata": {
        "colab": {
          "base_uri": "https://localhost:8080/",
          "height": 158
        },
        "id": "olM8S-gQMweH",
        "outputId": "2ef62de7-06cd-4822-adb6-69d489561d1e"
      },
      "execution_count": null,
      "outputs": [
        {
          "output_type": "error",
          "ename": "TypeError",
          "evalue": "'tuple' object does not support item assignment",
          "traceback": [
            "\u001b[0;31m---------------------------------------------------------------------------\u001b[0m",
            "\u001b[0;31mTypeError\u001b[0m                                 Traceback (most recent call last)",
            "\u001b[0;32m<ipython-input-19-41d0c036f3b9>\u001b[0m in \u001b[0;36m<cell line: 1>\u001b[0;34m()\u001b[0m\n\u001b[0;32m----> 1\u001b[0;31m \u001b[0mtup1\u001b[0m\u001b[0;34m[\u001b[0m\u001b[0;36m2\u001b[0m\u001b[0;34m]\u001b[0m\u001b[0;34m=\u001b[0m\u001b[0;34m\"hi\"\u001b[0m\u001b[0;34m\u001b[0m\u001b[0;34m\u001b[0m\u001b[0m\n\u001b[0m\u001b[1;32m      2\u001b[0m \u001b[0mtup1\u001b[0m\u001b[0;34m\u001b[0m\u001b[0;34m\u001b[0m\u001b[0m\n",
            "\u001b[0;31mTypeError\u001b[0m: 'tuple' object does not support item assignment"
          ]
        }
      ]
    },
    {
      "cell_type": "markdown",
      "source": [
        "\"\"\"Question 5 Continued\n",
        "\n",
        "The above codes show that when we try to change the element in list the element changes which shows that lists are mutable\n",
        "\n",
        "But when we do that for the tuple, it doesnt change the element which shows that tuple is immutable\n",
        "\"\"\""
      ],
      "metadata": {
        "id": "Cc_tQ37hHN2k"
      }
    },
    {
      "cell_type": "code",
      "source": [
        "# Q6 Write a function to demonstrate the behavior of mutable and immutable argument\n",
        "\n",
        "# The demonstration is as follows\n",
        "lis2 = [\"You\", \"are\",\"a\",\"good\",\"person\"]\n",
        "str1 =\"You are a good person\"\n",
        "lis2[3]=\"bad\"\n",
        "lis2"
      ],
      "metadata": {
        "colab": {
          "base_uri": "https://localhost:8080/"
        },
        "id": "ZRhyGQENNi3o",
        "outputId": "8a2be7e3-da67-4638-951e-6078050e58cc"
      },
      "execution_count": null,
      "outputs": [
        {
          "output_type": "execute_result",
          "data": {
            "text/plain": [
              "['You', 'are', 'a', 'bad', 'person']"
            ]
          },
          "metadata": {},
          "execution_count": 22
        }
      ]
    },
    {
      "cell_type": "code",
      "source": [
        "# Q6 continued\n",
        "# here the string is immutable, hence will show an error saying object doesnt support item assignment\n",
        "str1[3]=\"h\""
      ],
      "metadata": {
        "colab": {
          "base_uri": "https://localhost:8080/",
          "height": 176
        },
        "id": "Om7jW5fROitI",
        "outputId": "c2035341-0a5a-45f1-8abd-2191a62d40b2"
      },
      "execution_count": null,
      "outputs": [
        {
          "output_type": "error",
          "ename": "TypeError",
          "evalue": "'str' object does not support item assignment",
          "traceback": [
            "\u001b[0;31m---------------------------------------------------------------------------\u001b[0m",
            "\u001b[0;31mTypeError\u001b[0m                                 Traceback (most recent call last)",
            "\u001b[0;32m<ipython-input-23-eb9669e24457>\u001b[0m in \u001b[0;36m<cell line: 3>\u001b[0;34m()\u001b[0m\n\u001b[1;32m      1\u001b[0m \u001b[0;31m# Q6 continued\u001b[0m\u001b[0;34m\u001b[0m\u001b[0;34m\u001b[0m\u001b[0m\n\u001b[1;32m      2\u001b[0m \u001b[0;31m# here the string is immutable, hence will show an error\u001b[0m\u001b[0;34m\u001b[0m\u001b[0;34m\u001b[0m\u001b[0m\n\u001b[0;32m----> 3\u001b[0;31m \u001b[0mstr1\u001b[0m\u001b[0;34m[\u001b[0m\u001b[0;36m3\u001b[0m\u001b[0;34m]\u001b[0m\u001b[0;34m=\u001b[0m\u001b[0;34m\"h\"\u001b[0m\u001b[0;34m\u001b[0m\u001b[0;34m\u001b[0m\u001b[0m\n\u001b[0m",
            "\u001b[0;31mTypeError\u001b[0m: 'str' object does not support item assignment"
          ]
        }
      ]
    },
    {
      "cell_type": "code",
      "source": [
        "# Q7 Write a function to demonstrate the behavior of mutable and immutable argument\n",
        "# Ans same as question 6"
      ],
      "metadata": {
        "id": "J35PmZwqO3-F"
      },
      "execution_count": null,
      "outputs": []
    },
    {
      "cell_type": "code",
      "source": [
        "# Q8 Write a program to demonstrate the use of logical operators\n",
        "\n",
        "# Logical operators are AND, OR, NOT\n",
        "# A person can work in a factory if he is older than 18 AND should be male\n",
        "gender = \"male\"\n",
        "age=45\n",
        "if age>= 18 and gender==\"male\":\n",
        "  print(\"You can work here\")\n",
        "else:\n",
        "  print(\"You cannot work here\")\n",
        "\n",
        "\n"
      ],
      "metadata": {
        "colab": {
          "base_uri": "https://localhost:8080/"
        },
        "id": "C-MXvgi_PdOz",
        "outputId": "9e33f4b3-098b-45b1-a291-206b3031f1dc"
      },
      "execution_count": null,
      "outputs": [
        {
          "output_type": "stream",
          "name": "stdout",
          "text": [
            "You can work here\n"
          ]
        }
      ]
    },
    {
      "cell_type": "code",
      "source": [
        " # Question 8 continued\n",
        " # A person can work in an office if he has a bachelors degree or experience of 2 years or more\n",
        " # The person applies with bachelors degree but dont have 2 years experience\n",
        "Degree= \"bachelors\"\n",
        "Experience = 1\n",
        "\n",
        "if Experience>=2 or Degree==\"bachelors\":\n",
        "  print(\"You can work here\")\n",
        "else:\n",
        "  print(\"you cannot work here\")"
      ],
      "metadata": {
        "colab": {
          "base_uri": "https://localhost:8080/"
        },
        "id": "AdP8Z-o6QBuN",
        "outputId": "127b5da4-d82b-4212-a604-39cebc696f2c"
      },
      "execution_count": null,
      "outputs": [
        {
          "output_type": "stream",
          "name": "stdout",
          "text": [
            "You can work here\n"
          ]
        }
      ]
    },
    {
      "cell_type": "code",
      "source": [
        "# Q9 Write a Python program to convert user input from string to integer, float, and boolean types\n",
        "\n",
        "num1=input(\"Enter a Number: \")\n",
        "\n",
        "a1=int(num1)\n",
        "a2=float(num1)\n",
        "a3=bool(num1)\n",
        "\n",
        "print(\"Integer=\",a1)\n",
        "print(\"Float=\",a2)\n",
        "print(\"Bool=\",a3)"
      ],
      "metadata": {
        "colab": {
          "base_uri": "https://localhost:8080/"
        },
        "id": "g8JPBzeTTFgM",
        "outputId": "af2071a7-295e-47fc-c8d9-e745c69074f9"
      },
      "execution_count": null,
      "outputs": [
        {
          "output_type": "stream",
          "name": "stdout",
          "text": [
            "Enter a Number: 67\n",
            "Integer= 67\n",
            "Float= 67.0\n",
            "Bool= True\n"
          ]
        }
      ]
    },
    {
      "cell_type": "code",
      "source": [
        "# Q10 Write code to demonstrate type casting with list elements\n",
        "\n",
        "# Creating a list\n",
        "lis2 =[45,566,67.9,\"harry\"]\n",
        "\n",
        "lis2[2]=str(67.9)\n",
        "print(lis2)\n",
        "# The 3rd element in the list which was integer will convert to string\n",
        "type(lis2[3])"
      ],
      "metadata": {
        "colab": {
          "base_uri": "https://localhost:8080/"
        },
        "id": "8EoDZdQGUDSM",
        "outputId": "03980fff-f05b-46f8-ceab-8df01500a886"
      },
      "execution_count": null,
      "outputs": [
        {
          "output_type": "stream",
          "name": "stdout",
          "text": [
            "[45, 566, '67.9', 'harry']\n"
          ]
        },
        {
          "output_type": "execute_result",
          "data": {
            "text/plain": [
              "str"
            ]
          },
          "metadata": {},
          "execution_count": 64
        }
      ]
    },
    {
      "cell_type": "code",
      "source": [
        "# Q11 Write a program that checks if a number is positive, negative, or zero\n",
        "num2=int(input(\"Please enter a number : \"))\n",
        "\n",
        "if num2>0 :\n",
        "    print(\"The number is positive\")\n",
        "elif num2<0:\n",
        "    print(\"The number is negative\")\n",
        "else:\n",
        "    print(\"The number is 0\")"
      ],
      "metadata": {
        "colab": {
          "base_uri": "https://localhost:8080/"
        },
        "id": "f5pxK7QrWOZr",
        "outputId": "dfc647db-0282-4f16-90e2-c326644a15d3"
      },
      "execution_count": null,
      "outputs": [
        {
          "output_type": "stream",
          "name": "stdout",
          "text": [
            "Please enter a number : 0\n",
            "The number is 0\n"
          ]
        }
      ]
    },
    {
      "cell_type": "code",
      "source": [
        "# Q 12 vWrite a for loop to print numbers from 1 to 10\n",
        "\n",
        "for i in range(1,11):\n",
        "  print(i,end=\" \")"
      ],
      "metadata": {
        "colab": {
          "base_uri": "https://localhost:8080/"
        },
        "id": "aTpnMmyRYbRa",
        "outputId": "537e7142-e29d-4826-d704-4358bd147a1a"
      },
      "execution_count": null,
      "outputs": [
        {
          "output_type": "stream",
          "name": "stdout",
          "text": [
            "1 2 3 4 5 6 7 8 9 10 "
          ]
        }
      ]
    },
    {
      "cell_type": "code",
      "source": [
        "# Q 13 Write a Python program to find the sum of all even numbers between 1 and 50\n",
        "\n",
        "sum = 0\n",
        "for i in range(0,51):\n",
        "  if i%2==0:\n",
        "   sum +=i\n",
        "print(f\"the sum of even number is {sum}\")"
      ],
      "metadata": {
        "colab": {
          "base_uri": "https://localhost:8080/"
        },
        "id": "JdAMhVRGZD_A",
        "outputId": "5c9bdc20-bb8d-4971-ea75-f0a39674995d"
      },
      "execution_count": null,
      "outputs": [
        {
          "output_type": "stream",
          "name": "stdout",
          "text": [
            "the sum of even number is 650\n"
          ]
        }
      ]
    },
    {
      "cell_type": "code",
      "source": [
        "# Q 14 Write a program to reverse a string using a while loop\n",
        "\n",
        "abc=\"hello\"\n",
        "\n",
        "le=len(abc)\n",
        "\n",
        "while le>0:\n",
        "  print(abc[le-1], end=\"\")\n",
        "\n",
        "  le=le-1"
      ],
      "metadata": {
        "colab": {
          "base_uri": "https://localhost:8080/"
        },
        "id": "dVMux3bwangL",
        "outputId": "39b6a0df-a811-4f71-be22-976d5d5e03dc"
      },
      "execution_count": null,
      "outputs": [
        {
          "output_type": "stream",
          "name": "stdout",
          "text": [
            "olleh"
          ]
        }
      ]
    },
    {
      "cell_type": "code",
      "source": [
        "# Q 15 Write a Python program to calculate the factorial of a number provided by the user using a while loop.\n",
        "\n",
        "num4=int(input(\"Please enter a number : \"))\n",
        "fact=1\n",
        "while num4 >0:\n",
        "  fact = fact*num4\n",
        "  num4=num4-1\n",
        "print(f\"The factorial of the number is {fact}\")\n"
      ],
      "metadata": {
        "colab": {
          "base_uri": "https://localhost:8080/"
        },
        "id": "gfqcmXy_cVCV",
        "outputId": "d65832fc-98b7-4b23-d359-6a9794c25c18"
      },
      "execution_count": null,
      "outputs": [
        {
          "output_type": "stream",
          "name": "stdout",
          "text": [
            "Please enter a number : 4\n",
            "The factorial of the number is24\n"
          ]
        }
      ]
    },
    {
      "cell_type": "code",
      "source": [],
      "metadata": {
        "id": "e0P99cTJdk-o"
      },
      "execution_count": null,
      "outputs": []
    }
  ]
}